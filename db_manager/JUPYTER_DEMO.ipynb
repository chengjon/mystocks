{
 "cells": [
  {
   "cell_type": "markdown",
   "id": "f1a2fab4",
   "metadata": {},
   "source": [
    "# 数据库监控初始化 - Jupyter 演示\n",
    "\n",
    "这个笔记本演示如何在 Jupyter 环境中使用数据库监控初始化功能。"
   ]
  },
  {
   "cell_type": "markdown",
   "id": "f90107ff",
   "metadata": {},
   "source": [
    "## 1. 导入所需模块\n",
    "\n",
    "首先导入数据库初始化模块。系统会自动检测 Jupyter 环境并处理路径问题。"
   ]
  },
  {
   "cell_type": "code",
   "execution_count": null,
   "id": "786e9f6a",
   "metadata": {},
   "outputs": [],
   "source": [
    "import sys\n",
    "import os\n",
    "\n",
    "# 如果需要，可以手动添加模块路径\n",
    "# sys.path.append('path/to/your/mystocks/db_manager')\n",
    "\n",
    "# 导入初始化函数\n",
    "from mystocks.db_manager.init_db_monitor import init_monitoring_database\n",
    "\n",
    "print(\"✅ 模块导入成功!\")\n",
    "print(f\"📂 当前工作目录: {os.getcwd()}\")"
   ]
  },
  {
   "cell_type": "markdown",
   "id": "7469125e",
   "metadata": {},
   "source": [
    "## 2. 执行数据库初始化\n",
    "\n",
    "使用 `init_monitoring_database()` 函数来初始化数据库监控系统。\n",
    "\n",
    "**函数参数：**\n",
    "- `drop_existing=False`: 默认值，不删除已存在的表\n",
    "- `drop_existing=True`: 删除已存在的表并重新创建"
   ]
  },
  {
   "cell_type": "code",
   "execution_count": null,
   "id": "2283ae77",
   "metadata": {},
   "outputs": [],
   "source": [
    "# 执行数据库初始化（保留已有表）\n",
    "print(\"🚀 开始执行数据库监控系统初始化...\")\n",
    "print(\"=\"*50)\n",
    "\n",
    "success = init_monitoring_database(drop_existing=False)\n",
    "\n",
    "print(\"=\"*50)\n",
    "if success:\n",
    "    print(\"🎉 数据库监控系统初始化成功!\")\n",
    "    print(\"\\n📊 创建的资源:\")\n",
    "    print(\"• 数据库: db_monitor\")\n",
    "    print(\"• 表: table_creation_log, column_definition_log, table_operation_log, table_validation_log\")\n",
    "else:\n",
    "    print(\"❌ 数据库监控系统初始化失败!\")\n",
    "    print(\"请检查:\") \n",
    "    print(\"1. 数据库连接配置\")\n",
    "    print(\"2. 网络连接\")\n",
    "    print(\"3. 数据库权限\")"
   ]
  },
  {
   "cell_type": "markdown",
   "id": "66b2a5c2",
   "metadata": {},
   "source": [
    "## 3. 高级用法：强制重建表\n",
    "\n",
    "如果需要删除已存在的表并重新创建，可以使用 `drop_existing=True` 参数。\n",
    "\n",
    "⚠️ **警告：这会删除现有数据！**"
   ]
  },
  {
   "cell_type": "code",
   "execution_count": null,
   "id": "7e3045df",
   "metadata": {},
   "outputs": [],
   "source": [
    "# 取消注释下面的代码来强制重建表\n",
    "# 警告：这会删除所有现有数据！\n",
    "\n",
    "# print(\"⚠️ 执行强制重建表操作...\")\n",
    "# success = init_monitoring_database(drop_existing=True)\n",
    "\n",
    "# if success:\n",
    "#     print(\"✅ 表重建完成!\")\n",
    "# else:\n",
    "#     print(\"❌ 表重建失败!\")\n",
    "\n",
    "print(\"💡 提示: 如需重建表，请取消注释上面的代码\")"
   ]
  },
  {
   "cell_type": "markdown",
   "id": "d5eec047",
   "metadata": {},
   "source": [
    "## 4. 验证结果\n",
    "\n",
    "检查日志文件和数据库状态来验证初始化是否成功。"
   ]
  },
  {
   "cell_type": "code",
   "execution_count": null,
   "id": "5db36280",
   "metadata": {},
   "outputs": [],
   "source": [
    "import glob\n",
    "from datetime import datetime\n",
    "\n",
    "# 查找今天的日志文件\n",
    "today = datetime.now().strftime('%Y-%m-%d')\n",
    "log_pattern = f\"logs/db_monitor_init_{today}.log\"\n",
    "log_files = glob.glob(log_pattern)\n",
    "\n",
    "if log_files:\n",
    "    print(f\"📋 找到日志文件: {log_files[0]}\")\n",
    "    print(f\"📊 文件大小: {os.path.getsize(log_files[0])} 字节\")\n",
    "    \n",
    "    # 显示最后几行日志\n",
    "    with open(log_files[0], 'r', encoding='utf-8') as f:\n",
    "        lines = f.readlines()\n",
    "        print(f\"\\n📝 日志总行数: {len(lines)}\")\n",
    "        print(\"\\n🔍 最后5行日志:\")\n",
    "        for line in lines[-5:]:\n",
    "            print(f\"  {line.strip()}\")\n",
    "else:\n",
    "    print(f\"❌ 未找到今天的日志文件: {log_pattern}\")\n",
    "\n",
    "# 检查 logs 目录\n",
    "if os.path.exists('logs'):\n",
    "    log_files_all = os.listdir('logs')\n",
    "    print(f\"\\n📁 logs 目录中的所有文件: {log_files_all}\")\n",
    "else:\n",
    "    print(\"\\n📁 logs 目录不存在（可能在其他位置）\")"
   ]
  },
  {
   "cell_type": "markdown",
   "id": "48c73931",
   "metadata": {},
   "source": [
    "## 5. 故障排除\n",
    "\n",
    "如果遇到问题，可以使用以下代码进行诊断。"
   ]
  },
  {
   "cell_type": "code",
   "execution_count": null,
   "id": "b66c40f5",
   "metadata": {},
   "outputs": [],
   "source": [
    "# 诊断信息\n",
    "print(\"🔧 系统诊断信息:\")\n",
    "print(f\"🐍 Python 版本: {sys.version}\")\n",
    "print(f\"📂 当前工作目录: {os.getcwd()}\")\n",
    "print(f\"📁 模块搜索路径:\")\n",
    "for i, path in enumerate(sys.path[:5], 1):\n",
    "    print(f\"  {i}. {path}\")\n",
    "\n",
    "# 检查环境变量文件\n",
    "possible_env_files = [\n",
    "    'mystocks/.env',\n",
    "    '.env',\n",
    "    '../mystocks/.env',\n",
    "    r'D:\\MyData\\GITHUB\\mystocks\\.env'\n",
    "]\n",
    "\n",
    "print(\"\\n🔍 环境变量文件检查:\")\n",
    "for env_file in possible_env_files:\n",
    "    if os.path.exists(env_file):\n",
    "        abs_path = os.path.abspath(env_file)\n",
    "        print(f\"  ✅ {env_file} -> {abs_path}\")\n",
    "        break\n",
    "    else:\n",
    "        print(f\"  ❌ {env_file}\")\n",
    "\n",
    "# 检查关键依赖\n",
    "print(\"\\n📦 依赖包检查:\")\n",
    "required_packages = ['sqlalchemy', 'pymysql', 'loguru']\n",
    "for package in required_packages:\n",
    "    try:\n",
    "        __import__(package)\n",
    "        print(f\"  ✅ {package}\")\n",
    "    except ImportError:\n",
    "        print(f\"  ❌ {package} (未安装)\")\n",
    "\n",
    "print(\"\\n💡 如果仍有问题，请检查:\")\n",
    "print(\"  1. 数据库连接配置 (.env 文件)\")\n",
    "print(\"  2. 网络连接是否正常\")\n",
    "print(\"  3. 数据库服务是否启动\")\n",
    "print(\"  4. 用户权限是否足够\")"
   ]
  },
  {
   "cell_type": "markdown",
   "id": "08bc7304",
   "metadata": {},
   "source": [
    "## 小结\n",
    "\n",
    "本笔记本演示了如何在 Jupyter 环境中:\n",
    "\n",
    "1. ✅ 导入数据库初始化模块\n",
    "2. ✅ 执行数据库监控系统初始化\n",
    "3. ✅ 验证执行结果\n",
    "4. ✅ 进行故障排除\n",
    "\n",
    "系统会自动:\n",
    "- 🔍 检测 Jupyter 环境\n",
    "- 📁 智能查找配置文件\n",
    "- 🛡️ 处理参数冲突\n",
    "- 📋 生成详细日志\n",
    "\n",
    "现在您可以在任何 Jupyter 环境中安全地使用数据库监控初始化功能了！"
   ]
  }
 ],
 "metadata": {
  "language_info": {
   "name": "python"
  }
 },
 "nbformat": 4,
 "nbformat_minor": 5
}
